{
  "nbformat": 4,
  "nbformat_minor": 0,
  "metadata": {
    "colab": {
      "name": "MLw3school.ipynb",
      "provenance": [],
      "collapsed_sections": [],
      "authorship_tag": "ABX9TyMwX/4HgD/6wGfLmxKCVWJP",
      "include_colab_link": true
    },
    "kernelspec": {
      "name": "python3",
      "display_name": "Python 3"
    }
  },
  "cells": [
    {
      "cell_type": "markdown",
      "metadata": {
        "id": "view-in-github",
        "colab_type": "text"
      },
      "source": [
        "<a href=\"https://colab.research.google.com/github/kulotn/machinelearning/blob/master/MLw3school.ipynb\" target=\"_parent\"><img src=\"https://colab.research.google.com/assets/colab-badge.svg\" alt=\"Open In Colab\"/></a>"
      ]
    },
    {
      "cell_type": "code",
      "metadata": {
        "id": "-_aV1GZ4nvPK",
        "colab_type": "code",
        "colab": {}
      },
      "source": [
        "speed=[99,86,87,88,111,86,103,87,94,78,77,85,86]"
      ],
      "execution_count": 0,
      "outputs": []
    },
    {
      "cell_type": "code",
      "metadata": {
        "id": "RdQWAJIXoRff",
        "colab_type": "code",
        "colab": {
          "base_uri": "https://localhost:8080/",
          "height": 87
        },
        "outputId": "5dfff834-49ea-4452-b826-0c50b84b33f2"
      },
      "source": [
        "#To learn about mean,median and mode. \n",
        "\n",
        "import numpy as np\n",
        "#The mode() method returns a ModeResult object that contains the mode number (86), and count (how many times the mode number appeared (3)).\n",
        "from scipy import stats\n",
        "speed=[99,86,87,88,111,86,103,87,94,78,77,85,86]\n",
        "x=np.mean(speed)\n",
        "y=np.median(speed)\n",
        "z=stats.mode(speed)\n",
        "#To learn about how the values are spreadout\n",
        "sd=np.std(speed)\n",
        "vr=np.var(speed)\n",
        "per=np.percentile(speed,90)\n",
        "print('Mean speed is',x,'Median speed', y)\n",
        "print( 'Mode of the speed is ',z)\n",
        "print('Variance',round(vr,2),'and Standard deviation of the speed is',round(sd,2))\n",
        "print('percentage of speed less than 90%',per)\n"
      ],
      "execution_count": 22,
      "outputs": [
        {
          "output_type": "stream",
          "text": [
            "Mean speed is 89.76923076923077 Median speed 87.0\n",
            "Mode of the speed is  ModeResult(mode=array([86]), count=array([3]))\n",
            "Variance 85.72 and Standard deviation of the speed is 9.26\n",
            "percentage of speed less than 90% 102.2\n"
          ],
          "name": "stdout"
        }
      ]
    },
    {
      "cell_type": "code",
      "metadata": {
        "id": "slxY2a-zsb39",
        "colab_type": "code",
        "colab": {
          "base_uri": "https://localhost:8080/",
          "height": 283
        },
        "outputId": "745332e2-a7a9-438f-9c27-be602419c5f7"
      },
      "source": [
        "#to generate big size of data and visualize using histogram\n",
        "import numpy as np\n",
        "import matplotlib.pyplot as plt\n",
        "\n",
        "#x=np.random.uniform(0,5.0,50000)\n",
        "#print(x)\n",
        "y=np.random.normal(5.0,1.0,50000)\n",
        "#plt.hist(x,500)\n",
        "plt.hist(y,500)\n",
        "plt.show"
      ],
      "execution_count": 45,
      "outputs": [
        {
          "output_type": "execute_result",
          "data": {
            "text/plain": [
              "<function matplotlib.pyplot.show>"
            ]
          },
          "metadata": {
            "tags": []
          },
          "execution_count": 45
        },
        {
          "output_type": "display_data",
          "data": {
            "image/png": "[encoded data removed]",
            "text/plain": [
              "<Figure size 432x288 with 1 Axes>"
            ]
          },
          "metadata": {
            "tags": []
          }
        }
      ]
    },
    {
      "cell_type": "code",
      "metadata": {
        "id": "5W7mAZXiwE6A",
        "colab_type": "code",
        "colab": {
          "base_uri": "https://localhost:8080/",
          "height": 283
        },
        "outputId": "a7712bf1-a7ab-410b-f656-dcdc00a0bd4c"
      },
      "source": [
        "#To learn the importance of scatter plot\n",
        "import numpy as np\n",
        "import matplotlib.pyplot as plt\n",
        "\n",
        "#x = [5,7,8,7,2,17,2,9,4,11,12,9,6]\n",
        "#y = [99,86,87,88,111,86,103,87,94,78,77,85,86]\n",
        "\n",
        "x = np.random.normal(5.0,1.0,1000)\n",
        "y = np.random.normal(10.0,2.0,1000)\n",
        "\n",
        "plt.scatter(x,y)\n",
        "plt.show"
      ],
      "execution_count": 48,
      "outputs": [
        {
          "output_type": "execute_result",
          "data": {
            "text/plain": [
              "<function matplotlib.pyplot.show>"
            ]
          },
          "metadata": {
            "tags": []
          },
          "execution_count": 48
        },
        {
          "output_type": "display_data",
          "data": {
            "image/png": "[encoded data removed]",
            "text/plain": [
              "<Figure size 432x288 with 1 Axes>"
            ]
          },
          "metadata": {
            "tags": []
          }
        }
      ]
    },
    {
      "cell_type": "code",
      "metadata": {
        "id": "rHjPxoTayyxs",
        "colab_type": "code",
        "colab": {
          "base_uri": "https://localhost:8080/",
          "height": 300
        },
        "outputId": "62e3721a-9a75-485a-83c8-4fb0275fd0b4"
      },
      "source": [
        "#Regression to find the relationship between variables.\n",
        "import matplotlib.pyplot as plt\n",
        "from scipy import stats\n",
        "x = [5,7,8,7,2,17,2,9,4,11,12,9,6]\n",
        "y = [99,86,87,88,111,86,103,87,94,78,77,85,86]\n",
        "\n",
        "slope,intercept,r,p,stderr=stats.linregress(x,y)\n",
        "#R-Squared value\n",
        "print(r)\n",
        "#function for linear regression\n",
        "def myfunc(x):\n",
        "  return slope * x + intercept\n",
        "\n",
        "mymodel=list(map(myfunc,x))\n",
        "\n",
        "plt.scatter(x,y)\n",
        "plt.plot(x,mymodel)\n",
        "plt.show"
      ],
      "execution_count": 55,
      "outputs": [
        {
          "output_type": "stream",
          "text": [
            "-0.758591524376155\n"
          ],
          "name": "stdout"
        },
        {
          "output_type": "execute_result",
          "data": {
            "text/plain": [
              "<function matplotlib.pyplot.show>"
            ]
          },
          "metadata": {
            "tags": []
          },
          "execution_count": 55
        },
        {
          "output_type": "display_data",
          "data": {
            "image/png": "[encoded data removed]",
            "text/plain": [
              "<Figure size 432x288 with 1 Axes>"
            ]
          },
          "metadata": {
            "tags": []
          }
        }
      ]
    }
  ]
}